{
 "cells": [
  {
   "cell_type": "code",
   "execution_count": null,
   "id": "cce69efd",
   "metadata": {},
   "outputs": [],
   "source": [
    "# https://pyriemann.readthedocs.io/en/latest/\n",
    "# https://neurotechx.github.io/moabb/auto_examples/advanced_examples/plot_statistical_analysis.html#sphx-glr-auto-examples-advanced-examples-plot-statistical-analysis-py"
   ]
  }
 ],
 "metadata": {
  "kernelspec": {
   "display_name": "Python 3.8.12 64-bit ('clct': conda)",
   "language": "python",
   "name": "python3812jvsc74a57bd0d9a5d45ac070acb3d02480c4f6bfba4c62d7daf2d0f80d551120434456dc6512"
  },
  "language_info": {
   "codemirror_mode": {
    "name": "ipython",
    "version": 3
   },
   "file_extension": ".py",
   "mimetype": "text/x-python",
   "name": "python",
   "nbconvert_exporter": "python",
   "pygments_lexer": "ipython3",
   "version": "3.8.12"
  }
 },
 "nbformat": 4,
 "nbformat_minor": 5
}
