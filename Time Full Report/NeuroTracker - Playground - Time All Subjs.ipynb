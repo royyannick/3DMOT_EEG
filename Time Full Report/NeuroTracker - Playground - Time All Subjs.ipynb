{
 "cells": [
  {
   "cell_type": "markdown",
   "id": "c503ba4c",
   "metadata": {},
   "source": [
    "# Frequency Analysis - Single Subject Report\n",
    "https://mne.tools/stable/auto_tutorials/stats-sensor-space/75_cluster_ftest_spatiotemporal.html"
   ]
  },
  {
   "cell_type": "code",
   "execution_count": 2,
   "id": "b75e5e33",
   "metadata": {},
   "outputs": [
    {
     "name": "stdout",
     "output_type": "stream",
     "text": [
      "Using pyvistaqt 3d backend.\n",
      "\n"
     ]
    }
   ],
   "source": [
    "import numpy as np\n",
    "import pandas as pd\n",
    "import seaborn as sns\n",
    "import glob\n",
    "import pickle\n",
    "import copy\n",
    "import time\n",
    "\n",
    "import mne\n",
    "from mne import Epochs, pick_channels, find_events\n",
    "from mne.io import read_raw_bdf, concatenate_raws\n",
    "from mne.time_frequency import tfr_morlet, psd_multitaper, psd_welch\n",
    "\n",
    "import collections\n",
    "from autoreject import AutoReject\n",
    "\n",
    "import sys\n",
    "sys.path.append('/Users/nick/Documents/PhD/CLCT/NeuroTracker/')\n",
    "from cda_utils import get_epochs, get_CDA, prep_report, fill_report, get_report, checksum, add_cda_report, get_CDA_perf_report\n",
    "#from events import get_specific_events\n",
    "\n",
    "import matplotlib\n",
    "import matplotlib.pyplot as plt\n",
    "%matplotlib inline\n",
    "\n",
    "mne.viz.set_3d_backend('pyvistaqt')"
   ]
  },
  {
   "cell_type": "code",
   "execution_count": 3,
   "id": "bf4ea83d",
   "metadata": {},
   "outputs": [],
   "source": [
    "#==================================================================\n",
    "# General Variables\n",
    "#==================================================================\n",
    "# Organize Triggers\n",
    "trigger = 2\n",
    "\n",
    "# Triggers\n",
    "# 1 - New Spheres.\n",
    "# 2 - Red Spheres.\n",
    "# 4 - Start Moving.\n",
    "# 8 - Stop Moving.\n",
    "# 16 - TBD (~4 of them... and 4 blocks.)\n",
    "# 32 - TBD (juste juste avant le 1, so I guess fin de trial, I have 88 of them... 4 trials)\n",
    "# \n",
    "\n",
    "# T2 = T1 + 5s \n",
    "# T4 = T2 + 2s\n",
    "# T8 = T4 + 9s ?! (9s ?)\n",
    "# T16 = T8 + ~1s\n",
    "# T32 = T8 + 25s   ensuite un autre 3s plus tard.\n",
    "\n",
    "# Beaucoup de 1 et 32.. pas clair...\n",
    "\n",
    "# --------------------------\n",
    "conds = ['1', '2', '3']\n",
    "sides = ['right', 'left', 'classicmod']\n",
    "perfs = ['good', 'bad']\n",
    "\n",
    "custom_trigger = dict()\n",
    "custom_trigger['1'] = 100\n",
    "custom_trigger['2'] = 200\n",
    "custom_trigger['3'] = 300\n",
    "custom_trigger['right'] = 10\n",
    "custom_trigger['left'] = 20\n",
    "custom_trigger['classicmod'] = 30\n",
    "custom_trigger['good'] = 1\n",
    "custom_trigger['bad'] = 2\n",
    "\n",
    "#report = prep_report(conds, sides, perfs)\n",
    "\n",
    "# Making Event ID Dict to make it easy and readable to access (the desired) epochs.\n",
    "event_id = dict()\n",
    "for cond in conds:\n",
    "    for side in sides:\n",
    "        for perf in perfs:\n",
    "            event_id['{}/{}/{}'.format(cond, side, perf)] = custom_trigger[cond] + custom_trigger[side] + custom_trigger[perf]\n",
    "\n",
    "# CDA Channels\n",
    "chan_right_all = ['O2', 'PO4', 'PO8', 'P2', 'P4', 'P6', 'P8', 'P10', 'C2', 'C4', 'C6', 'CP2', 'CP4', 'CP6', 'T8', 'TP8', 'FT8', 'FC2', 'FC4', 'FC6', 'F2', 'F4', 'F6', 'F8', 'AF4', 'AF8', 'Fp2']\n",
    "chan_left_all =  ['O1', 'PO3', 'PO7', 'P1', 'P3', 'P5', 'P7', 'P9',  'C1', 'C3', 'C5', 'CP1', 'CP3', 'CP5', 'T7', 'TP7', 'FT7', 'FC1', 'FC3', 'FC5', 'F1', 'F3', 'F5', 'F7', 'AF3', 'AF7', 'Fp1']\n",
    "chan_midline_all = ['Fz', 'FCz', 'Cz', 'Fpz', 'CPz', 'Pz', 'POz', 'Oz'] #'Iz'\n",
    "\n",
    "clusters = ['F', 'P', 'C', 'O', 'T']\n",
    "clusters_names = {'F':'Frontal', 'P':'Parietal', 'C':'Central', 'O':'Occipital', 'T':'Temporal'}\n",
    "\n",
    "phases = ['ID', 'Tracking', 'Recall']\n",
    "stimx = {'ID':0, 'Tracking':2, 'Recall':11}\n",
    "time_windows = {'ID':(-.2,2), 'Tracking':(1.5, 11), 'Recall':(10.5, 18)}\n",
    "\n",
    "# Epoch Information\n",
    "epoch_length = 20\n",
    "epoch_tmin = -3\n",
    "baseline_corr = (-1, -0.2)\n"
   ]
  }
 ],
 "metadata": {
  "kernelspec": {
   "display_name": "Python 3 (ipykernel)",
   "language": "python",
   "name": "python3"
  },
  "language_info": {
   "codemirror_mode": {
    "name": "ipython",
    "version": 3
   },
   "file_extension": ".py",
   "mimetype": "text/x-python",
   "name": "python",
   "nbconvert_exporter": "python",
   "pygments_lexer": "ipython3",
   "version": "3.8.12"
  }
 },
 "nbformat": 4,
 "nbformat_minor": 5
}
